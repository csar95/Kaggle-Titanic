{
 "cells": [
  {
   "cell_type": "code",
   "execution_count": 1,
   "metadata": {},
   "outputs": [],
   "source": [
    "import pandas as pd\n",
    "import numpy as np\n",
    "import pickle\n",
    "from sklearn.impute import SimpleImputer\n",
    "from sklearn.preprocessing import OneHotEncoder, FunctionTransformer, Binarizer, KBinsDiscretizer\n",
    "from sklearn.compose import make_column_transformer\n",
    "from sklearn.pipeline import make_pipeline\n",
    "from sklearn.model_selection import cross_val_score, GridSearchCV\n",
    "from mlxtend.feature_selection import SequentialFeatureSelector"
   ]
  },
  {
   "cell_type": "code",
   "execution_count": 2,
   "metadata": {},
   "outputs": [
    {
     "data": {
      "text/plain": [
       "(891, 418)"
      ]
     },
     "execution_count": 2,
     "metadata": {},
     "output_type": "execute_result"
    }
   ],
   "source": [
    "train_data = pd.read_csv(\"./titanic/train.csv\")\n",
    "test_data = pd.read_csv(\"./titanic/test.csv\")\n",
    "len(train_data), len(test_data)"
   ]
  },
  {
   "cell_type": "markdown",
   "metadata": {},
   "source": [
    "---\n",
    "---\n",
    "## Random forest"
   ]
  },
  {
   "cell_type": "code",
   "execution_count": 3,
   "metadata": {},
   "outputs": [],
   "source": [
    "from sklearn.ensemble import RandomForestClassifier"
   ]
  },
  {
   "cell_type": "code",
   "execution_count": 4,
   "metadata": {},
   "outputs": [],
   "source": [
    "df_train = train_data.loc[~train_data['Embarked'].isna(), ['Survived','Pclass','Sex','Age','SibSp','Parch','Fare','Cabin','Embarked']]\n",
    "X_train = df_train.drop(columns='Survived')\n",
    "y_train = df_train['Survived']\n",
    "\n",
    "X_test = test_data[['Pclass','Sex','Age','SibSp','Parch','Fare','Cabin','Embarked']]"
   ]
  },
  {
   "cell_type": "code",
   "execution_count": 5,
   "metadata": {},
   "outputs": [],
   "source": [
    "pipe_age = make_pipeline(\n",
    "    SimpleImputer(missing_values=np.nan, strategy='mean'),\n",
    "    KBinsDiscretizer(n_bins=8, encode='ordinal', strategy='uniform') )\n",
    "\n",
    "pipe_fare = make_pipeline(\n",
    "    SimpleImputer(missing_values=np.nan, strategy='mean'),\n",
    "    KBinsDiscretizer(n_bins=10, encode='ordinal', strategy='kmeans') )\n",
    "\n",
    "def valid_letter(l):\n",
    "    return l == 'A' or l == 'B' or l == 'C' or l == 'D' or l == 'E' or l == 'F'\n",
    "\n",
    "def extract_cabin_letter(X):\n",
    "    return X.applymap(lambda x : str(x)[0] if not pd.isna(x) and valid_letter(str(x)[0]) else 'nan')\n",
    "\n",
    "cabin_letter = FunctionTransformer(extract_cabin_letter)\n",
    "\n",
    "pipe_cabin = make_pipeline(\n",
    "    cabin_letter,\n",
    "    OneHotEncoder(drop='if_binary') )\n",
    "\n",
    "column_transformer = make_column_transformer(\n",
    "    (pipe_cabin, ['Cabin']),\n",
    "    (pipe_age, ['Age']),\n",
    "    (pipe_fare, ['Fare']),\n",
    "    (Binarizer(threshold=0), ['SibSp','Parch']),\n",
    "    (OneHotEncoder(drop='if_binary'), ['Sex','Embarked']),\n",
    "    remainder='passthrough')\n",
    "\n",
    "model = RandomForestClassifier(n_jobs=-1, random_state=42, verbose=0)\n",
    "\n",
    "pipe = make_pipeline(column_transformer, model)"
   ]
  },
  {
   "cell_type": "code",
   "execution_count": 6,
   "metadata": {
    "scrolled": true
   },
   "outputs": [
    {
     "data": {
      "text/plain": [
       "[('columntransformer',\n",
       "  ColumnTransformer(remainder='passthrough',\n",
       "                    transformers=[('pipeline-1',\n",
       "                                   Pipeline(steps=[('functiontransformer',\n",
       "                                                    FunctionTransformer(func=<function extract_cabin_letter at 0x7fbe208eea60>)),\n",
       "                                                   ('onehotencoder',\n",
       "                                                    OneHotEncoder(drop='if_binary'))]),\n",
       "                                   ['Cabin']),\n",
       "                                  ('pipeline-2',\n",
       "                                   Pipeline(steps=[('simpleimputer',\n",
       "                                                    SimpleImputer()),\n",
       "                                                   ('kbinsdiscretizer',\n",
       "                                                    KBinsDiscretizer(encode='ordinal',\n",
       "                                                                     n_bins=8,\n",
       "                                                                     strategy='uniform'))]),\n",
       "                                   ['Age']),\n",
       "                                  ('pipeline-3',\n",
       "                                   Pipeline(steps=[('simpleimputer',\n",
       "                                                    SimpleImputer()),\n",
       "                                                   ('kbinsdiscretizer',\n",
       "                                                    KBinsDiscretizer(encode='ordinal',\n",
       "                                                                     n_bins=10,\n",
       "                                                                     strategy='kmeans'))]),\n",
       "                                   ['Fare']),\n",
       "                                  ('binarizer', Binarizer(threshold=0),\n",
       "                                   ['SibSp', 'Parch']),\n",
       "                                  ('onehotencoder',\n",
       "                                   OneHotEncoder(drop='if_binary'),\n",
       "                                   ['Sex', 'Embarked'])])),\n",
       " ('randomforestclassifier',\n",
       "  RandomForestClassifier(n_jobs=-1, random_state=42))]"
      ]
     },
     "execution_count": 6,
     "metadata": {},
     "output_type": "execute_result"
    }
   ],
   "source": [
    "pipe.steps"
   ]
  },
  {
   "cell_type": "code",
   "execution_count": 7,
   "metadata": {},
   "outputs": [
    {
     "data": {
      "text/html": [
       "<div>\n",
       "<style scoped>\n",
       "    .dataframe tbody tr th:only-of-type {\n",
       "        vertical-align: middle;\n",
       "    }\n",
       "\n",
       "    .dataframe tbody tr th {\n",
       "        vertical-align: top;\n",
       "    }\n",
       "\n",
       "    .dataframe thead th {\n",
       "        text-align: right;\n",
       "    }\n",
       "</style>\n",
       "<table border=\"1\" class=\"dataframe\">\n",
       "  <thead>\n",
       "    <tr style=\"text-align: right;\">\n",
       "      <th></th>\n",
       "      <th>0</th>\n",
       "      <th>1</th>\n",
       "      <th>2</th>\n",
       "      <th>3</th>\n",
       "      <th>4</th>\n",
       "      <th>5</th>\n",
       "      <th>6</th>\n",
       "      <th>7</th>\n",
       "      <th>8</th>\n",
       "      <th>9</th>\n",
       "      <th>10</th>\n",
       "      <th>11</th>\n",
       "      <th>12</th>\n",
       "      <th>13</th>\n",
       "      <th>14</th>\n",
       "      <th>15</th>\n",
       "    </tr>\n",
       "  </thead>\n",
       "  <tbody>\n",
       "    <tr>\n",
       "      <th>0</th>\n",
       "      <td>0.0</td>\n",
       "      <td>0.0</td>\n",
       "      <td>0.0</td>\n",
       "      <td>0.0</td>\n",
       "      <td>0.0</td>\n",
       "      <td>0.0</td>\n",
       "      <td>1.0</td>\n",
       "      <td>2.0</td>\n",
       "      <td>0.0</td>\n",
       "      <td>1.0</td>\n",
       "      <td>0.0</td>\n",
       "      <td>1.0</td>\n",
       "      <td>0.0</td>\n",
       "      <td>0.0</td>\n",
       "      <td>1.0</td>\n",
       "      <td>3.0</td>\n",
       "    </tr>\n",
       "    <tr>\n",
       "      <th>1</th>\n",
       "      <td>0.0</td>\n",
       "      <td>0.0</td>\n",
       "      <td>1.0</td>\n",
       "      <td>0.0</td>\n",
       "      <td>0.0</td>\n",
       "      <td>0.0</td>\n",
       "      <td>0.0</td>\n",
       "      <td>3.0</td>\n",
       "      <td>3.0</td>\n",
       "      <td>1.0</td>\n",
       "      <td>0.0</td>\n",
       "      <td>0.0</td>\n",
       "      <td>1.0</td>\n",
       "      <td>0.0</td>\n",
       "      <td>0.0</td>\n",
       "      <td>1.0</td>\n",
       "    </tr>\n",
       "    <tr>\n",
       "      <th>2</th>\n",
       "      <td>0.0</td>\n",
       "      <td>0.0</td>\n",
       "      <td>0.0</td>\n",
       "      <td>0.0</td>\n",
       "      <td>0.0</td>\n",
       "      <td>0.0</td>\n",
       "      <td>1.0</td>\n",
       "      <td>2.0</td>\n",
       "      <td>0.0</td>\n",
       "      <td>0.0</td>\n",
       "      <td>0.0</td>\n",
       "      <td>0.0</td>\n",
       "      <td>0.0</td>\n",
       "      <td>0.0</td>\n",
       "      <td>1.0</td>\n",
       "      <td>3.0</td>\n",
       "    </tr>\n",
       "    <tr>\n",
       "      <th>3</th>\n",
       "      <td>0.0</td>\n",
       "      <td>0.0</td>\n",
       "      <td>1.0</td>\n",
       "      <td>0.0</td>\n",
       "      <td>0.0</td>\n",
       "      <td>0.0</td>\n",
       "      <td>0.0</td>\n",
       "      <td>3.0</td>\n",
       "      <td>2.0</td>\n",
       "      <td>1.0</td>\n",
       "      <td>0.0</td>\n",
       "      <td>0.0</td>\n",
       "      <td>0.0</td>\n",
       "      <td>0.0</td>\n",
       "      <td>1.0</td>\n",
       "      <td>1.0</td>\n",
       "    </tr>\n",
       "    <tr>\n",
       "      <th>4</th>\n",
       "      <td>0.0</td>\n",
       "      <td>0.0</td>\n",
       "      <td>0.0</td>\n",
       "      <td>0.0</td>\n",
       "      <td>0.0</td>\n",
       "      <td>0.0</td>\n",
       "      <td>1.0</td>\n",
       "      <td>3.0</td>\n",
       "      <td>0.0</td>\n",
       "      <td>0.0</td>\n",
       "      <td>0.0</td>\n",
       "      <td>1.0</td>\n",
       "      <td>0.0</td>\n",
       "      <td>0.0</td>\n",
       "      <td>1.0</td>\n",
       "      <td>3.0</td>\n",
       "    </tr>\n",
       "  </tbody>\n",
       "</table>\n",
       "</div>"
      ],
      "text/plain": [
       "    0    1    2    3    4    5    6    7    8    9    10   11   12   13   14  \\\n",
       "0  0.0  0.0  0.0  0.0  0.0  0.0  1.0  2.0  0.0  1.0  0.0  1.0  0.0  0.0  1.0   \n",
       "1  0.0  0.0  1.0  0.0  0.0  0.0  0.0  3.0  3.0  1.0  0.0  0.0  1.0  0.0  0.0   \n",
       "2  0.0  0.0  0.0  0.0  0.0  0.0  1.0  2.0  0.0  0.0  0.0  0.0  0.0  0.0  1.0   \n",
       "3  0.0  0.0  1.0  0.0  0.0  0.0  0.0  3.0  2.0  1.0  0.0  0.0  0.0  0.0  1.0   \n",
       "4  0.0  0.0  0.0  0.0  0.0  0.0  1.0  3.0  0.0  0.0  0.0  1.0  0.0  0.0  1.0   \n",
       "\n",
       "    15  \n",
       "0  3.0  \n",
       "1  1.0  \n",
       "2  3.0  \n",
       "3  1.0  \n",
       "4  3.0  "
      ]
     },
     "execution_count": 7,
     "metadata": {},
     "output_type": "execute_result"
    }
   ],
   "source": [
    "pd.DataFrame(column_transformer.fit_transform(X_train)).head()"
   ]
  },
  {
   "cell_type": "code",
   "execution_count": 8,
   "metadata": {},
   "outputs": [],
   "source": [
    "param_grid = {'randomforestclassifier__n_estimators':[30,50,100],\n",
    "              'randomforestclassifier__max_depth':[2,3,4,6],\n",
    "              'randomforestclassifier__min_samples_split':[2,4,6]}"
   ]
  },
  {
   "cell_type": "code",
   "execution_count": 9,
   "metadata": {},
   "outputs": [],
   "source": [
    "gs_cv = GridSearchCV(pipe, param_grid, scoring='accuracy', cv=10, n_jobs=-1)"
   ]
  },
  {
   "cell_type": "code",
   "execution_count": 10,
   "metadata": {
    "scrolled": true
   },
   "outputs": [
    {
     "name": "stdout",
     "output_type": "stream",
     "text": [
      "CPU times: user 2.45 s, sys: 396 ms, total: 2.84 s\n",
      "Wall time: 24.4 s\n"
     ]
    },
    {
     "data": {
      "text/plain": [
       "GridSearchCV(cv=10,\n",
       "             estimator=Pipeline(steps=[('columntransformer',\n",
       "                                        ColumnTransformer(remainder='passthrough',\n",
       "                                                          transformers=[('pipeline-1',\n",
       "                                                                         Pipeline(steps=[('functiontransformer',\n",
       "                                                                                          FunctionTransformer(func=<function extract_cabin_letter at 0x7fbe208eea60>)),\n",
       "                                                                                         ('onehotencoder',\n",
       "                                                                                          OneHotEncoder(drop='if_binary'))]),\n",
       "                                                                         ['Cabin']),\n",
       "                                                                        ('pipeline-2',\n",
       "                                                                         Pipeline(steps=[('simple...\n",
       "                                                                          'Parch']),\n",
       "                                                                        ('onehotencoder',\n",
       "                                                                         OneHotEncoder(drop='if_binary'),\n",
       "                                                                         ['Sex',\n",
       "                                                                          'Embarked'])])),\n",
       "                                       ('randomforestclassifier',\n",
       "                                        RandomForestClassifier(n_jobs=-1,\n",
       "                                                               random_state=42))]),\n",
       "             n_jobs=-1,\n",
       "             param_grid={'randomforestclassifier__max_depth': [2, 3, 4, 6],\n",
       "                         'randomforestclassifier__min_samples_split': [2, 4, 6],\n",
       "                         'randomforestclassifier__n_estimators': [30, 50, 100]},\n",
       "             scoring='accuracy')"
      ]
     },
     "execution_count": 10,
     "metadata": {},
     "output_type": "execute_result"
    }
   ],
   "source": [
    "%%time\n",
    "gs_cv.fit(X_train, y_train);"
   ]
  },
  {
   "cell_type": "code",
   "execution_count": 11,
   "metadata": {},
   "outputs": [
    {
     "data": {
      "text/plain": [
       "(0.8313329928498467,\n",
       " {'randomforestclassifier__max_depth': 6,\n",
       "  'randomforestclassifier__min_samples_split': 4,\n",
       "  'randomforestclassifier__n_estimators': 100})"
      ]
     },
     "execution_count": 11,
     "metadata": {},
     "output_type": "execute_result"
    }
   ],
   "source": [
    "gs_cv.best_score_, gs_cv.best_params_"
   ]
  },
  {
   "cell_type": "code",
   "execution_count": 12,
   "metadata": {},
   "outputs": [],
   "source": [
    "pickle.dump(gs_cv, open('./models/model-randForestCLF-20211210.pkl', 'wb'))"
   ]
  },
  {
   "cell_type": "code",
   "execution_count": null,
   "metadata": {},
   "outputs": [],
   "source": [
    "# test = pickle.load(open('./models/model-catboostCLF.pkl', 'rb'))\n",
    "# test.predict(X_test)[:10]"
   ]
  },
  {
   "cell_type": "code",
   "execution_count": 13,
   "metadata": {},
   "outputs": [
    {
     "data": {
      "text/plain": [
       "array([0, 0, 0, 0, 0, 0, 1, 0, 1, 0])"
      ]
     },
     "execution_count": 13,
     "metadata": {},
     "output_type": "execute_result"
    }
   ],
   "source": [
    "y_pred = gs_cv.predict(X_test)\n",
    "y_pred[:10]"
   ]
  },
  {
   "cell_type": "code",
   "execution_count": 14,
   "metadata": {},
   "outputs": [
    {
     "data": {
      "text/html": [
       "<div>\n",
       "<style scoped>\n",
       "    .dataframe tbody tr th:only-of-type {\n",
       "        vertical-align: middle;\n",
       "    }\n",
       "\n",
       "    .dataframe tbody tr th {\n",
       "        vertical-align: top;\n",
       "    }\n",
       "\n",
       "    .dataframe thead th {\n",
       "        text-align: right;\n",
       "    }\n",
       "</style>\n",
       "<table border=\"1\" class=\"dataframe\">\n",
       "  <thead>\n",
       "    <tr style=\"text-align: right;\">\n",
       "      <th></th>\n",
       "      <th>PassengerId</th>\n",
       "      <th>Survived</th>\n",
       "    </tr>\n",
       "  </thead>\n",
       "  <tbody>\n",
       "    <tr>\n",
       "      <th>0</th>\n",
       "      <td>892</td>\n",
       "      <td>0</td>\n",
       "    </tr>\n",
       "    <tr>\n",
       "      <th>1</th>\n",
       "      <td>893</td>\n",
       "      <td>0</td>\n",
       "    </tr>\n",
       "    <tr>\n",
       "      <th>2</th>\n",
       "      <td>894</td>\n",
       "      <td>0</td>\n",
       "    </tr>\n",
       "    <tr>\n",
       "      <th>3</th>\n",
       "      <td>895</td>\n",
       "      <td>0</td>\n",
       "    </tr>\n",
       "    <tr>\n",
       "      <th>4</th>\n",
       "      <td>896</td>\n",
       "      <td>0</td>\n",
       "    </tr>\n",
       "    <tr>\n",
       "      <th>5</th>\n",
       "      <td>897</td>\n",
       "      <td>0</td>\n",
       "    </tr>\n",
       "    <tr>\n",
       "      <th>6</th>\n",
       "      <td>898</td>\n",
       "      <td>1</td>\n",
       "    </tr>\n",
       "    <tr>\n",
       "      <th>7</th>\n",
       "      <td>899</td>\n",
       "      <td>0</td>\n",
       "    </tr>\n",
       "    <tr>\n",
       "      <th>8</th>\n",
       "      <td>900</td>\n",
       "      <td>1</td>\n",
       "    </tr>\n",
       "    <tr>\n",
       "      <th>9</th>\n",
       "      <td>901</td>\n",
       "      <td>0</td>\n",
       "    </tr>\n",
       "  </tbody>\n",
       "</table>\n",
       "</div>"
      ],
      "text/plain": [
       "   PassengerId  Survived\n",
       "0          892         0\n",
       "1          893         0\n",
       "2          894         0\n",
       "3          895         0\n",
       "4          896         0\n",
       "5          897         0\n",
       "6          898         1\n",
       "7          899         0\n",
       "8          900         1\n",
       "9          901         0"
      ]
     },
     "execution_count": 14,
     "metadata": {},
     "output_type": "execute_result"
    }
   ],
   "source": [
    "predictions = pd.DataFrame({'PassengerId':test_data['PassengerId'], 'Survived':y_pred})\n",
    "predictions.head(10)"
   ]
  },
  {
   "cell_type": "code",
   "execution_count": 15,
   "metadata": {},
   "outputs": [],
   "source": [
    "predictions.to_csv('submission.csv', index=False)"
   ]
  },
  {
   "cell_type": "markdown",
   "metadata": {},
   "source": [
    "#### Testing Cross-validation"
   ]
  },
  {
   "cell_type": "code",
   "execution_count": 7,
   "metadata": {},
   "outputs": [
    {
     "data": {
      "text/plain": [
       "0.8313329928498467"
      ]
     },
     "execution_count": 7,
     "metadata": {},
     "output_type": "execute_result"
    }
   ],
   "source": [
    "cross_val_score(pipe, X_train, y_train, cv=10, scoring='accuracy').mean()"
   ]
  },
  {
   "cell_type": "markdown",
   "metadata": {},
   "source": [
    "#### Sequential Feature Selection"
   ]
  },
  {
   "cell_type": "code",
   "execution_count": 23,
   "metadata": {},
   "outputs": [],
   "source": [
    "sfs = SequentialFeatureSelector(pipe, forward=True, k_features=6, scoring='accuracy', cv=10, n_jobs=-1)\n",
    "_ = sfs.fit(X_train, y_train)"
   ]
  },
  {
   "cell_type": "code",
   "execution_count": 24,
   "metadata": {},
   "outputs": [
    {
     "data": {
      "text/plain": [
       "{1: {'feature_idx': (0,),\n",
       "  'cv_scores': array([nan, nan, nan, nan, nan, nan, nan, nan, nan, nan]),\n",
       "  'avg_score': nan,\n",
       "  'feature_names': ('Pclass',)},\n",
       " 2: {'feature_idx': (0, 1),\n",
       "  'cv_scores': array([nan, nan, nan, nan, nan, nan, nan, nan, nan, nan]),\n",
       "  'avg_score': nan,\n",
       "  'feature_names': ('Pclass', 'Sex')},\n",
       " 3: {'feature_idx': (0, 1, 2),\n",
       "  'cv_scores': array([nan, nan, nan, nan, nan, nan, nan, nan, nan, nan]),\n",
       "  'avg_score': nan,\n",
       "  'feature_names': ('Pclass', 'Sex', 'Age')},\n",
       " 4: {'feature_idx': (0, 1, 2, 3),\n",
       "  'cv_scores': array([nan, nan, nan, nan, nan, nan, nan, nan, nan, nan]),\n",
       "  'avg_score': nan,\n",
       "  'feature_names': ('Pclass', 'Sex', 'Age', 'SibSp')},\n",
       " 5: {'feature_idx': (0, 1, 2, 3, 4),\n",
       "  'cv_scores': array([nan, nan, nan, nan, nan, nan, nan, nan, nan, nan]),\n",
       "  'avg_score': nan,\n",
       "  'feature_names': ('Pclass', 'Sex', 'Age', 'SibSp', 'Parch')},\n",
       " 6: {'feature_idx': (0, 1, 2, 3, 4, 5),\n",
       "  'cv_scores': array([nan, nan, nan, nan, nan, nan, nan, nan, nan, nan]),\n",
       "  'avg_score': nan,\n",
       "  'feature_names': ('Pclass', 'Sex', 'Age', 'SibSp', 'Parch', 'Fare')}}"
      ]
     },
     "execution_count": 24,
     "metadata": {},
     "output_type": "execute_result"
    }
   ],
   "source": [
    "sfs.subsets_"
   ]
  },
  {
   "cell_type": "markdown",
   "metadata": {},
   "source": [
    "---\n",
    "---\n",
    "## Gradient boosting"
   ]
  },
  {
   "cell_type": "code",
   "execution_count": 3,
   "metadata": {},
   "outputs": [],
   "source": [
    "from catboost import CatBoostClassifier"
   ]
  },
  {
   "cell_type": "code",
   "execution_count": 4,
   "metadata": {},
   "outputs": [],
   "source": [
    "df_train = train_data.loc[~train_data['Embarked'].isna(), ['Survived','Pclass','Sex','Age','SibSp','Parch','Fare','Embarked']]\n",
    "X_train = df_train.drop(columns='Survived')\n",
    "y_train = df_train['Survived']\n",
    "\n",
    "X_test = test_data[['Pclass','Sex','Age','SibSp','Parch','Fare','Embarked']]"
   ]
  },
  {
   "cell_type": "code",
   "execution_count": 5,
   "metadata": {},
   "outputs": [],
   "source": [
    "pipe_age = make_pipeline(\n",
    "    SimpleImputer(missing_values=np.nan, strategy='mean'),\n",
    "    KBinsDiscretizer(n_bins=8, encode='ordinal', strategy='uniform') )\n",
    "\n",
    "pipe_fare = make_pipeline(\n",
    "    SimpleImputer(missing_values=np.nan, strategy='mean'),\n",
    "    KBinsDiscretizer(n_bins=10, encode='ordinal', strategy='kmeans') )\n",
    "\n",
    "column_transformer = make_column_transformer(\n",
    "    (pipe_age, ['Age']),\n",
    "    (pipe_fare, ['Fare']),\n",
    "    (Binarizer(threshold=0), ['SibSp','Parch']),\n",
    "    remainder='passthrough')\n",
    "\n",
    "model = CatBoostClassifier(random_seed=42, cat_features=[5,6])\n",
    "\n",
    "pipe = make_pipeline(column_transformer, model)"
   ]
  },
  {
   "cell_type": "code",
   "execution_count": 6,
   "metadata": {},
   "outputs": [
    {
     "data": {
      "text/plain": [
       "[('columntransformer',\n",
       "  ColumnTransformer(remainder='passthrough',\n",
       "                    transformers=[('pipeline-1',\n",
       "                                   Pipeline(steps=[('simpleimputer',\n",
       "                                                    SimpleImputer()),\n",
       "                                                   ('kbinsdiscretizer',\n",
       "                                                    KBinsDiscretizer(encode='ordinal',\n",
       "                                                                     n_bins=8,\n",
       "                                                                     strategy='uniform'))]),\n",
       "                                   ['Age']),\n",
       "                                  ('pipeline-2',\n",
       "                                   Pipeline(steps=[('simpleimputer',\n",
       "                                                    SimpleImputer()),\n",
       "                                                   ('kbinsdiscretizer',\n",
       "                                                    KBinsDiscretizer(encode='ordinal',\n",
       "                                                                     n_bins=10,\n",
       "                                                                     strategy='kmeans'))]),\n",
       "                                   ['Fare']),\n",
       "                                  ('binarizer', Binarizer(threshold=0),\n",
       "                                   ['SibSp', 'Parch'])])),\n",
       " ('catboostclassifier', <catboost.core.CatBoostClassifier at 0x7f9147a3a040>)]"
      ]
     },
     "execution_count": 6,
     "metadata": {},
     "output_type": "execute_result"
    }
   ],
   "source": [
    "pipe.steps"
   ]
  },
  {
   "cell_type": "code",
   "execution_count": 7,
   "metadata": {},
   "outputs": [
    {
     "data": {
      "text/html": [
       "<div>\n",
       "<style scoped>\n",
       "    .dataframe tbody tr th:only-of-type {\n",
       "        vertical-align: middle;\n",
       "    }\n",
       "\n",
       "    .dataframe tbody tr th {\n",
       "        vertical-align: top;\n",
       "    }\n",
       "\n",
       "    .dataframe thead th {\n",
       "        text-align: right;\n",
       "    }\n",
       "</style>\n",
       "<table border=\"1\" class=\"dataframe\">\n",
       "  <thead>\n",
       "    <tr style=\"text-align: right;\">\n",
       "      <th></th>\n",
       "      <th>0</th>\n",
       "      <th>1</th>\n",
       "      <th>2</th>\n",
       "      <th>3</th>\n",
       "      <th>4</th>\n",
       "      <th>5</th>\n",
       "      <th>6</th>\n",
       "    </tr>\n",
       "  </thead>\n",
       "  <tbody>\n",
       "    <tr>\n",
       "      <th>0</th>\n",
       "      <td>2</td>\n",
       "      <td>0</td>\n",
       "      <td>1</td>\n",
       "      <td>0</td>\n",
       "      <td>3</td>\n",
       "      <td>male</td>\n",
       "      <td>S</td>\n",
       "    </tr>\n",
       "    <tr>\n",
       "      <th>1</th>\n",
       "      <td>3</td>\n",
       "      <td>3</td>\n",
       "      <td>1</td>\n",
       "      <td>0</td>\n",
       "      <td>1</td>\n",
       "      <td>female</td>\n",
       "      <td>C</td>\n",
       "    </tr>\n",
       "    <tr>\n",
       "      <th>2</th>\n",
       "      <td>2</td>\n",
       "      <td>0</td>\n",
       "      <td>0</td>\n",
       "      <td>0</td>\n",
       "      <td>3</td>\n",
       "      <td>female</td>\n",
       "      <td>S</td>\n",
       "    </tr>\n",
       "    <tr>\n",
       "      <th>3</th>\n",
       "      <td>3</td>\n",
       "      <td>2</td>\n",
       "      <td>1</td>\n",
       "      <td>0</td>\n",
       "      <td>1</td>\n",
       "      <td>female</td>\n",
       "      <td>S</td>\n",
       "    </tr>\n",
       "    <tr>\n",
       "      <th>4</th>\n",
       "      <td>3</td>\n",
       "      <td>0</td>\n",
       "      <td>0</td>\n",
       "      <td>0</td>\n",
       "      <td>3</td>\n",
       "      <td>male</td>\n",
       "      <td>S</td>\n",
       "    </tr>\n",
       "  </tbody>\n",
       "</table>\n",
       "</div>"
      ],
      "text/plain": [
       "   0  1  2  3  4       5  6\n",
       "0  2  0  1  0  3    male  S\n",
       "1  3  3  1  0  1  female  C\n",
       "2  2  0  0  0  3  female  S\n",
       "3  3  2  1  0  1  female  S\n",
       "4  3  0  0  0  3    male  S"
      ]
     },
     "execution_count": 7,
     "metadata": {},
     "output_type": "execute_result"
    }
   ],
   "source": [
    "pd.DataFrame(column_transformer.fit_transform(X_train)).head()"
   ]
  },
  {
   "cell_type": "code",
   "execution_count": 8,
   "metadata": {},
   "outputs": [],
   "source": [
    "param_grid = {'catboostclassifier__n_estimators':[30,50,100],\n",
    "              'catboostclassifier__learning_rate':[0.1,0.3,0.5],\n",
    "              'catboostclassifier__l2_leaf_reg':[0,1,3,7],\n",
    "              'catboostclassifier__depth':[2,3,4,6]}"
   ]
  },
  {
   "cell_type": "code",
   "execution_count": 9,
   "metadata": {},
   "outputs": [],
   "source": [
    "gs_cv = GridSearchCV(pipe, param_grid, scoring='accuracy', cv=10, n_jobs=-1)"
   ]
  },
  {
   "cell_type": "code",
   "execution_count": 10,
   "metadata": {
    "scrolled": true
   },
   "outputs": [
    {
     "name": "stdout",
     "output_type": "stream",
     "text": [
      "0:\tlearn: 0.5925852\ttotal: 53.9ms\tremaining: 5.34s\n",
      "1:\tlearn: 0.5302514\ttotal: 54.9ms\tremaining: 2.69s\n",
      "2:\tlearn: 0.4940811\ttotal: 55.6ms\tremaining: 1.8s\n",
      "3:\tlearn: 0.4717085\ttotal: 56.1ms\tremaining: 1.35s\n",
      "4:\tlearn: 0.4581755\ttotal: 56.7ms\tremaining: 1.08s\n",
      "5:\tlearn: 0.4438225\ttotal: 57.2ms\tremaining: 896ms\n",
      "6:\tlearn: 0.4374819\ttotal: 57.8ms\tremaining: 768ms\n",
      "7:\tlearn: 0.4332104\ttotal: 58.3ms\tremaining: 671ms\n",
      "8:\tlearn: 0.4264228\ttotal: 58.9ms\tremaining: 595ms\n",
      "9:\tlearn: 0.4249912\ttotal: 59.4ms\tremaining: 534ms\n",
      "10:\tlearn: 0.4234998\ttotal: 59.9ms\tremaining: 484ms\n",
      "11:\tlearn: 0.4221396\ttotal: 60.5ms\tremaining: 443ms\n",
      "12:\tlearn: 0.4208055\ttotal: 61ms\tremaining: 408ms\n",
      "13:\tlearn: 0.4198669\ttotal: 61.5ms\tremaining: 378ms\n",
      "14:\tlearn: 0.4180385\ttotal: 62.1ms\tremaining: 352ms\n",
      "15:\tlearn: 0.4135591\ttotal: 62.5ms\tremaining: 328ms\n",
      "16:\tlearn: 0.4124998\ttotal: 63.1ms\tremaining: 308ms\n",
      "17:\tlearn: 0.4097350\ttotal: 63.6ms\tremaining: 290ms\n",
      "18:\tlearn: 0.4048749\ttotal: 64.2ms\tremaining: 274ms\n",
      "19:\tlearn: 0.4041883\ttotal: 64.6ms\tremaining: 259ms\n",
      "20:\tlearn: 0.4020255\ttotal: 65.2ms\tremaining: 245ms\n",
      "21:\tlearn: 0.4014830\ttotal: 65.7ms\tremaining: 233ms\n",
      "22:\tlearn: 0.4001966\ttotal: 66.1ms\tremaining: 221ms\n",
      "23:\tlearn: 0.3999582\ttotal: 66.7ms\tremaining: 211ms\n",
      "24:\tlearn: 0.3979848\ttotal: 67.3ms\tremaining: 202ms\n",
      "25:\tlearn: 0.3973120\ttotal: 67.8ms\tremaining: 193ms\n",
      "26:\tlearn: 0.3965927\ttotal: 68.2ms\tremaining: 184ms\n",
      "27:\tlearn: 0.3960243\ttotal: 68.5ms\tremaining: 176ms\n",
      "28:\tlearn: 0.3950341\ttotal: 68.9ms\tremaining: 169ms\n",
      "29:\tlearn: 0.3944052\ttotal: 69.4ms\tremaining: 162ms\n",
      "30:\tlearn: 0.3940117\ttotal: 69.9ms\tremaining: 156ms\n",
      "31:\tlearn: 0.3932301\ttotal: 70.4ms\tremaining: 149ms\n",
      "32:\tlearn: 0.3927365\ttotal: 70.8ms\tremaining: 144ms\n",
      "33:\tlearn: 0.3923338\ttotal: 71.3ms\tremaining: 138ms\n",
      "34:\tlearn: 0.3914066\ttotal: 71.7ms\tremaining: 133ms\n",
      "35:\tlearn: 0.3909877\ttotal: 72.2ms\tremaining: 128ms\n",
      "36:\tlearn: 0.3905028\ttotal: 73.1ms\tremaining: 125ms\n",
      "37:\tlearn: 0.3898900\ttotal: 73.8ms\tremaining: 120ms\n",
      "38:\tlearn: 0.3883803\ttotal: 74.2ms\tremaining: 116ms\n",
      "39:\tlearn: 0.3877864\ttotal: 74.9ms\tremaining: 112ms\n",
      "40:\tlearn: 0.3874746\ttotal: 75.8ms\tremaining: 109ms\n",
      "41:\tlearn: 0.3865922\ttotal: 76.3ms\tremaining: 105ms\n",
      "42:\tlearn: 0.3861876\ttotal: 76.8ms\tremaining: 102ms\n",
      "43:\tlearn: 0.3841547\ttotal: 77.1ms\tremaining: 98.1ms\n",
      "44:\tlearn: 0.3839838\ttotal: 77.4ms\tremaining: 94.6ms\n",
      "45:\tlearn: 0.3835217\ttotal: 78.1ms\tremaining: 91.6ms\n",
      "46:\tlearn: 0.3833888\ttotal: 78.8ms\tremaining: 88.8ms\n",
      "47:\tlearn: 0.3830867\ttotal: 79.6ms\tremaining: 86.3ms\n",
      "48:\tlearn: 0.3828210\ttotal: 80.2ms\tremaining: 83.5ms\n",
      "49:\tlearn: 0.3826601\ttotal: 80.9ms\tremaining: 80.9ms\n",
      "50:\tlearn: 0.3824374\ttotal: 81.4ms\tremaining: 78.2ms\n",
      "51:\tlearn: 0.3823181\ttotal: 81.6ms\tremaining: 75.4ms\n",
      "52:\tlearn: 0.3820968\ttotal: 82.4ms\tremaining: 73.1ms\n",
      "53:\tlearn: 0.3809386\ttotal: 83.3ms\tremaining: 71ms\n",
      "54:\tlearn: 0.3808585\ttotal: 83.9ms\tremaining: 68.7ms\n",
      "55:\tlearn: 0.3792548\ttotal: 84.4ms\tremaining: 66.4ms\n",
      "56:\tlearn: 0.3767540\ttotal: 85ms\tremaining: 64.1ms\n",
      "57:\tlearn: 0.3764040\ttotal: 85.4ms\tremaining: 61.9ms\n",
      "58:\tlearn: 0.3761845\ttotal: 86ms\tremaining: 59.8ms\n",
      "59:\tlearn: 0.3761572\ttotal: 86.6ms\tremaining: 57.7ms\n",
      "60:\tlearn: 0.3753518\ttotal: 88.8ms\tremaining: 56.8ms\n",
      "61:\tlearn: 0.3753278\ttotal: 89.6ms\tremaining: 54.9ms\n",
      "62:\tlearn: 0.3747362\ttotal: 90ms\tremaining: 52.9ms\n",
      "63:\tlearn: 0.3745351\ttotal: 90.5ms\tremaining: 50.9ms\n",
      "64:\tlearn: 0.3735202\ttotal: 91.1ms\tremaining: 49ms\n",
      "65:\tlearn: 0.3734623\ttotal: 91.6ms\tremaining: 47.2ms\n",
      "66:\tlearn: 0.3731171\ttotal: 92.1ms\tremaining: 45.4ms\n",
      "67:\tlearn: 0.3729250\ttotal: 92.6ms\tremaining: 43.6ms\n",
      "68:\tlearn: 0.3729070\ttotal: 93.1ms\tremaining: 41.8ms\n",
      "69:\tlearn: 0.3728568\ttotal: 93.7ms\tremaining: 40.1ms\n",
      "70:\tlearn: 0.3722583\ttotal: 94.2ms\tremaining: 38.5ms\n",
      "71:\tlearn: 0.3720565\ttotal: 94.7ms\tremaining: 36.8ms\n",
      "72:\tlearn: 0.3716819\ttotal: 95.7ms\tremaining: 35.4ms\n",
      "73:\tlearn: 0.3711566\ttotal: 96.3ms\tremaining: 33.8ms\n",
      "74:\tlearn: 0.3709606\ttotal: 96.8ms\tremaining: 32.3ms\n",
      "75:\tlearn: 0.3695495\ttotal: 97.3ms\tremaining: 30.7ms\n",
      "76:\tlearn: 0.3695365\ttotal: 97.8ms\tremaining: 29.2ms\n",
      "77:\tlearn: 0.3694563\ttotal: 98.3ms\tremaining: 27.7ms\n",
      "78:\tlearn: 0.3691775\ttotal: 99ms\tremaining: 26.3ms\n",
      "79:\tlearn: 0.3691633\ttotal: 99.6ms\tremaining: 24.9ms\n",
      "80:\tlearn: 0.3691500\ttotal: 100ms\tremaining: 23.5ms\n",
      "81:\tlearn: 0.3684267\ttotal: 101ms\tremaining: 22.1ms\n",
      "82:\tlearn: 0.3682925\ttotal: 101ms\tremaining: 20.7ms\n",
      "83:\tlearn: 0.3677941\ttotal: 101ms\tremaining: 19.3ms\n",
      "84:\tlearn: 0.3675684\ttotal: 102ms\tremaining: 18ms\n",
      "85:\tlearn: 0.3657857\ttotal: 103ms\tremaining: 16.7ms\n",
      "86:\tlearn: 0.3654458\ttotal: 103ms\tremaining: 15.4ms\n",
      "87:\tlearn: 0.3644406\ttotal: 104ms\tremaining: 14.1ms\n",
      "88:\tlearn: 0.3643998\ttotal: 104ms\tremaining: 12.9ms\n",
      "89:\tlearn: 0.3637604\ttotal: 105ms\tremaining: 11.6ms\n",
      "90:\tlearn: 0.3630870\ttotal: 105ms\tremaining: 10.4ms\n",
      "91:\tlearn: 0.3629125\ttotal: 106ms\tremaining: 9.2ms\n",
      "92:\tlearn: 0.3622764\ttotal: 106ms\tremaining: 8ms\n",
      "93:\tlearn: 0.3622138\ttotal: 107ms\tremaining: 6.81ms\n",
      "94:\tlearn: 0.3621454\ttotal: 107ms\tremaining: 5.64ms\n",
      "95:\tlearn: 0.3613295\ttotal: 108ms\tremaining: 4.49ms\n",
      "96:\tlearn: 0.3609338\ttotal: 108ms\tremaining: 3.34ms\n",
      "97:\tlearn: 0.3609213\ttotal: 108ms\tremaining: 2.21ms\n",
      "98:\tlearn: 0.3605530\ttotal: 109ms\tremaining: 1.1ms\n",
      "99:\tlearn: 0.3601788\ttotal: 110ms\tremaining: 0us\n",
      "CPU times: user 3.83 s, sys: 253 ms, total: 4.08 s\n",
      "Wall time: 40.8 s\n"
     ]
    },
    {
     "data": {
      "text/plain": [
       "GridSearchCV(cv=10,\n",
       "             estimator=Pipeline(steps=[('columntransformer',\n",
       "                                        ColumnTransformer(remainder='passthrough',\n",
       "                                                          transformers=[('pipeline-1',\n",
       "                                                                         Pipeline(steps=[('simpleimputer',\n",
       "                                                                                          SimpleImputer()),\n",
       "                                                                                         ('kbinsdiscretizer',\n",
       "                                                                                          KBinsDiscretizer(encode='ordinal',\n",
       "                                                                                                           n_bins=8,\n",
       "                                                                                                           strategy='uniform'))]),\n",
       "                                                                         ['Age']),\n",
       "                                                                        ('pipeline-2',\n",
       "                                                                         Pipeline(steps=[('simpleimputer',\n",
       "                                                                                          SimpleImputer()),\n",
       "                                                                                         ('kbi...\n",
       "                                                                        ('binarizer',\n",
       "                                                                         Binarizer(threshold=0),\n",
       "                                                                         ['SibSp',\n",
       "                                                                          'Parch'])])),\n",
       "                                       ('catboostclassifier',\n",
       "                                        <catboost.core.CatBoostClassifier object at 0x7feaa7435190>)]),\n",
       "             n_jobs=-1,\n",
       "             param_grid={'catboostclassifier__depth': [2, 3, 4, 6],\n",
       "                         'catboostclassifier__l2_leaf_reg': [0, 1, 3, 7],\n",
       "                         'catboostclassifier__learning_rate': [0.1, 0.3, 0.5],\n",
       "                         'catboostclassifier__n_estimators': [30, 50, 100]},\n",
       "             scoring='accuracy')"
      ]
     },
     "execution_count": 10,
     "metadata": {},
     "output_type": "execute_result"
    }
   ],
   "source": [
    "%%time\n",
    "gs_cv.fit(X_train, y_train);"
   ]
  },
  {
   "cell_type": "code",
   "execution_count": 11,
   "metadata": {},
   "outputs": [
    {
     "data": {
      "text/plain": [
       "(0.8312946884576098,\n",
       " {'catboostclassifier__depth': 4,\n",
       "  'catboostclassifier__l2_leaf_reg': 3,\n",
       "  'catboostclassifier__learning_rate': 0.3,\n",
       "  'catboostclassifier__n_estimators': 100})"
      ]
     },
     "execution_count": 11,
     "metadata": {},
     "output_type": "execute_result"
    }
   ],
   "source": [
    "gs_cv.best_score_, gs_cv.best_params_"
   ]
  },
  {
   "cell_type": "code",
   "execution_count": 12,
   "metadata": {},
   "outputs": [],
   "source": [
    "pickle.dump(gs_cv, open('./models/model-catboostCLF-20211210.pkl', 'wb'))"
   ]
  },
  {
   "cell_type": "code",
   "execution_count": 23,
   "metadata": {},
   "outputs": [],
   "source": [
    "# test = pickle.load(open('./models/model-catboostCLF.pkl', 'rb'))\n",
    "# test.predict(X_test)[:10]"
   ]
  },
  {
   "cell_type": "code",
   "execution_count": 13,
   "metadata": {},
   "outputs": [
    {
     "data": {
      "text/plain": [
       "array([0, 0, 0, 0, 0, 0, 1, 0, 1, 0])"
      ]
     },
     "execution_count": 13,
     "metadata": {},
     "output_type": "execute_result"
    }
   ],
   "source": [
    "y_pred = gs_cv.predict(X_test)\n",
    "y_pred[:10]"
   ]
  },
  {
   "cell_type": "code",
   "execution_count": 14,
   "metadata": {},
   "outputs": [
    {
     "data": {
      "text/html": [
       "<div>\n",
       "<style scoped>\n",
       "    .dataframe tbody tr th:only-of-type {\n",
       "        vertical-align: middle;\n",
       "    }\n",
       "\n",
       "    .dataframe tbody tr th {\n",
       "        vertical-align: top;\n",
       "    }\n",
       "\n",
       "    .dataframe thead th {\n",
       "        text-align: right;\n",
       "    }\n",
       "</style>\n",
       "<table border=\"1\" class=\"dataframe\">\n",
       "  <thead>\n",
       "    <tr style=\"text-align: right;\">\n",
       "      <th></th>\n",
       "      <th>PassengerId</th>\n",
       "      <th>Survived</th>\n",
       "    </tr>\n",
       "  </thead>\n",
       "  <tbody>\n",
       "    <tr>\n",
       "      <th>0</th>\n",
       "      <td>892</td>\n",
       "      <td>0</td>\n",
       "    </tr>\n",
       "    <tr>\n",
       "      <th>1</th>\n",
       "      <td>893</td>\n",
       "      <td>0</td>\n",
       "    </tr>\n",
       "    <tr>\n",
       "      <th>2</th>\n",
       "      <td>894</td>\n",
       "      <td>0</td>\n",
       "    </tr>\n",
       "    <tr>\n",
       "      <th>3</th>\n",
       "      <td>895</td>\n",
       "      <td>0</td>\n",
       "    </tr>\n",
       "    <tr>\n",
       "      <th>4</th>\n",
       "      <td>896</td>\n",
       "      <td>0</td>\n",
       "    </tr>\n",
       "    <tr>\n",
       "      <th>5</th>\n",
       "      <td>897</td>\n",
       "      <td>0</td>\n",
       "    </tr>\n",
       "    <tr>\n",
       "      <th>6</th>\n",
       "      <td>898</td>\n",
       "      <td>1</td>\n",
       "    </tr>\n",
       "    <tr>\n",
       "      <th>7</th>\n",
       "      <td>899</td>\n",
       "      <td>0</td>\n",
       "    </tr>\n",
       "    <tr>\n",
       "      <th>8</th>\n",
       "      <td>900</td>\n",
       "      <td>1</td>\n",
       "    </tr>\n",
       "    <tr>\n",
       "      <th>9</th>\n",
       "      <td>901</td>\n",
       "      <td>0</td>\n",
       "    </tr>\n",
       "  </tbody>\n",
       "</table>\n",
       "</div>"
      ],
      "text/plain": [
       "   PassengerId  Survived\n",
       "0          892         0\n",
       "1          893         0\n",
       "2          894         0\n",
       "3          895         0\n",
       "4          896         0\n",
       "5          897         0\n",
       "6          898         1\n",
       "7          899         0\n",
       "8          900         1\n",
       "9          901         0"
      ]
     },
     "execution_count": 14,
     "metadata": {},
     "output_type": "execute_result"
    }
   ],
   "source": [
    "predictions = pd.DataFrame({'PassengerId':test_data['PassengerId'], 'Survived':y_pred})\n",
    "predictions.head(10)"
   ]
  },
  {
   "cell_type": "code",
   "execution_count": 15,
   "metadata": {},
   "outputs": [],
   "source": [
    "predictions.to_csv('submission.csv', index=False)"
   ]
  },
  {
   "cell_type": "markdown",
   "metadata": {},
   "source": [
    "---\n",
    "## Logistic Regression"
   ]
  },
  {
   "cell_type": "code",
   "execution_count": null,
   "metadata": {},
   "outputs": [],
   "source": []
  },
  {
   "cell_type": "markdown",
   "metadata": {},
   "source": [
    "---\n",
    "## Support Vector Machines"
   ]
  },
  {
   "cell_type": "code",
   "execution_count": null,
   "metadata": {},
   "outputs": [],
   "source": []
  },
  {
   "cell_type": "code",
   "execution_count": null,
   "metadata": {},
   "outputs": [],
   "source": [
    "# TODO:\n",
    "# Probar forward/backward selection: https://scikit-learn.org/stable/modules/generated/sklearn.feature_selection.SequentialFeatureSelector.html"
   ]
  },
  {
   "cell_type": "code",
   "execution_count": null,
   "metadata": {},
   "outputs": [],
   "source": []
  }
 ],
 "metadata": {
  "kernelspec": {
   "display_name": "Python 3",
   "language": "python",
   "name": "python3"
  },
  "language_info": {
   "codemirror_mode": {
    "name": "ipython",
    "version": 3
   },
   "file_extension": ".py",
   "mimetype": "text/x-python",
   "name": "python",
   "nbconvert_exporter": "python",
   "pygments_lexer": "ipython3",
   "version": "3.8.5"
  }
 },
 "nbformat": 4,
 "nbformat_minor": 4
}
