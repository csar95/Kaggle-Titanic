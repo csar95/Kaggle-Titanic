{
 "cells": [
  {
   "cell_type": "code",
   "execution_count": 20,
   "metadata": {},
   "outputs": [],
   "source": [
    "import pandas as pd\n",
    "import numpy as np\n",
    "import pickle\n",
    "from sklearn.impute import SimpleImputer\n",
    "from sklearn.preprocessing import OneHotEncoder, FunctionTransformer, Binarizer\n",
    "from sklearn.compose import make_column_transformer\n",
    "from sklearn.pipeline import make_pipeline\n",
    "from sklearn.model_selection import cross_val_score, GridSearchCV"
   ]
  },
  {
   "cell_type": "code",
   "execution_count": 2,
   "metadata": {},
   "outputs": [
    {
     "data": {
      "text/plain": [
       "(891, 418)"
      ]
     },
     "execution_count": 2,
     "metadata": {},
     "output_type": "execute_result"
    }
   ],
   "source": [
    "train_data = pd.read_csv(\"./titanic/train.csv\")\n",
    "test_data = pd.read_csv(\"./titanic/test.csv\")\n",
    "len(train_data), len(test_data)"
   ]
  },
  {
   "cell_type": "markdown",
   "metadata": {},
   "source": [
    "---\n",
    "### Random forest"
   ]
  },
  {
   "cell_type": "code",
   "execution_count": null,
   "metadata": {},
   "outputs": [],
   "source": [
    "from sklearn.ensemble import RandomForestClassifier"
   ]
  },
  {
   "cell_type": "code",
   "execution_count": 3,
   "metadata": {},
   "outputs": [],
   "source": [
    "df_train = train_data.loc[~train_data['Embarked'].isna(), ['Survived','Pclass','Sex','Age','Fare','Cabin','Embarked']]\n",
    "X_train = df_train.drop(columns='Survived')\n",
    "y_train = df_train['Survived']\n",
    "\n",
    "X_test = test_data[['Pclass','Sex','Age','Fare','Cabin','Embarked']]"
   ]
  },
  {
   "cell_type": "code",
   "execution_count": 4,
   "metadata": {},
   "outputs": [],
   "source": [
    "def extract_cabin_letter(X):\n",
    "    return X.applymap(lambda x : str(x)[0] if not pd.isna(x) else 'nan')\n",
    "\n",
    "cabin_letter = FunctionTransformer(extract_cabin_letter)"
   ]
  },
  {
   "cell_type": "code",
   "execution_count": 5,
   "metadata": {},
   "outputs": [],
   "source": [
    "columns_transformer_1 = make_column_transformer(\n",
    "    (cabin_letter, ['Cabin']),\n",
    "    (SimpleImputer(missing_values=np.nan, strategy='mean'), ['Age','Fare']),\n",
    "    (OneHotEncoder(drop='if_binary'), ['Sex','Embarked']),\n",
    "    remainder='passthrough')"
   ]
  },
  {
   "cell_type": "code",
   "execution_count": 6,
   "metadata": {},
   "outputs": [],
   "source": [
    "columns_transformer_2 = make_column_transformer(\n",
    "    (OneHotEncoder(drop='if_binary'), [0]),  # 0 is 'Cabin'\n",
    "    remainder='passthrough')"
   ]
  },
  {
   "cell_type": "code",
   "execution_count": 7,
   "metadata": {},
   "outputs": [],
   "source": [
    "model = RandomForestClassifier(n_estimators=100, max_depth=6, min_samples_split=4,\n",
    "                               n_jobs=-1, random_state=42, verbose=0)"
   ]
  },
  {
   "cell_type": "code",
   "execution_count": 8,
   "metadata": {},
   "outputs": [],
   "source": [
    "pipe_full = make_pipeline(columns_transformer_1, columns_transformer_2, model)"
   ]
  },
  {
   "cell_type": "code",
   "execution_count": null,
   "metadata": {},
   "outputs": [],
   "source": [
    "cross_val_score(pipe_full, X_train, y_train, cv=5, scoring='accuracy').mean()"
   ]
  },
  {
   "cell_type": "code",
   "execution_count": 10,
   "metadata": {},
   "outputs": [
    {
     "data": {
      "text/plain": [
       "array([0, 0, 0, 0, 0, 0, 1, 0, 1, 0, 0, 0, 1, 0, 1, 1, 0, 0, 0, 0, 0, 0,\n",
       "       1, 0, 1, 0, 1, 0, 0, 0, 0, 0, 0, 0, 1, 0, 0, 0, 0, 0, 0, 0, 0, 1,\n",
       "       1, 0, 0, 0, 1, 0, 0, 0, 1, 1, 0, 0, 0, 0, 0, 1, 0, 0, 0, 1, 1, 1,\n",
       "       1, 0, 0, 1, 1, 0, 0, 1, 1, 0, 0, 1, 0, 1, 1, 0, 0, 0, 0, 0, 1, 0,\n",
       "       1, 1, 0, 0, 1, 0, 0, 0, 1, 0, 0, 0, 1, 0, 0, 0, 1, 0, 0, 0, 0, 0,\n",
       "       0, 1, 1, 1, 1, 0, 0, 1, 1, 1, 1, 0, 1, 0, 0, 0, 0, 1, 0, 0, 0, 0,\n",
       "       0, 0, 0, 0, 0, 0, 0, 0, 0, 1, 0, 0, 0, 0, 1, 0, 0, 0, 1, 0, 0, 0,\n",
       "       0, 0, 1, 0, 0, 0, 1, 0, 1, 0, 0, 0, 0, 0, 1, 0, 0, 0, 0, 0, 0, 1,\n",
       "       1, 0, 1, 1, 0, 1, 1, 0, 1, 0, 1, 0, 0, 0, 0, 0, 0, 0, 0, 0, 1, 0,\n",
       "       0, 0, 1, 1, 0, 1, 0, 0, 0, 0, 1, 0, 0, 0, 0, 1, 0, 0, 1, 0, 1, 0,\n",
       "       1, 0, 1, 0, 1, 1, 0, 1, 0, 0, 0, 1, 0, 0, 1, 0, 0, 0, 1, 1, 1, 1,\n",
       "       0, 0, 0, 1, 1, 0, 1, 0, 1, 0, 0, 0, 0, 0, 0, 0, 1, 0, 0, 0, 1, 1,\n",
       "       0, 0, 0, 0, 0, 0, 0, 0, 1, 1, 0, 1, 0, 0, 0, 0, 0, 1, 1, 1, 1, 0,\n",
       "       0, 1, 0, 0, 0, 0, 0, 0, 0, 0, 1, 0, 0, 0, 0, 1, 0, 0, 1, 1, 0, 1,\n",
       "       0, 0, 0, 0, 0, 0, 1, 1, 0, 0, 0, 0, 0, 0, 0, 0, 1, 0, 1, 0, 0, 0,\n",
       "       1, 0, 0, 1, 0, 0, 0, 0, 0, 0, 0, 0, 0, 1, 0, 0, 0, 0, 0, 1, 1, 0,\n",
       "       0, 0, 1, 0, 1, 0, 0, 0, 0, 1, 1, 0, 1, 0, 0, 0, 1, 0, 0, 1, 0, 0,\n",
       "       1, 1, 0, 0, 0, 0, 0, 0, 0, 0, 0, 1, 0, 0, 0, 0, 1, 1, 0, 0, 0, 1,\n",
       "       0, 1, 0, 0, 1, 0, 1, 0, 1, 1, 0, 0, 1, 1, 1, 1, 0, 0, 1, 0, 0, 0])"
      ]
     },
     "execution_count": 10,
     "metadata": {},
     "output_type": "execute_result"
    }
   ],
   "source": [
    "pipe_full.fit(X_train, y_train)\n",
    "pipe_full.predict(X_test)"
   ]
  },
  {
   "cell_type": "markdown",
   "metadata": {},
   "source": [
    "---\n",
    "## Gradient boosting"
   ]
  },
  {
   "cell_type": "code",
   "execution_count": 3,
   "metadata": {},
   "outputs": [],
   "source": [
    "from catboost import CatBoostClassifier"
   ]
  },
  {
   "cell_type": "code",
   "execution_count": 4,
   "metadata": {},
   "outputs": [],
   "source": [
    "df_train = train_data.loc[~train_data['Embarked'].isna(), ['Survived','Pclass','Sex','Age','SibSp','Parch','Fare','Embarked']]\n",
    "X_train = df_train.drop(columns='Survived')\n",
    "y_train = df_train['Survived']\n",
    "\n",
    "X_test = test_data[['Pclass','Sex','Age','SibSp','Parch','Fare','Embarked']]"
   ]
  },
  {
   "cell_type": "code",
   "execution_count": 5,
   "metadata": {},
   "outputs": [],
   "source": [
    "column_transformer = make_column_transformer(\n",
    "    (SimpleImputer(missing_values=np.nan, strategy='mean'), ['Age','Fare']),\n",
    "    (Binarizer(threshold=0), ['SibSp','Parch']),\n",
    "    remainder='passthrough')\n",
    "\n",
    "model = CatBoostClassifier(random_seed=42, cat_features=[5,6])\n",
    "\n",
    "pipe = make_pipeline(column_transformer, model)"
   ]
  },
  {
   "cell_type": "code",
   "execution_count": 6,
   "metadata": {},
   "outputs": [
    {
     "data": {
      "text/plain": [
       "[('columntransformer',\n",
       "  ColumnTransformer(remainder='passthrough',\n",
       "                    transformers=[('simpleimputer', SimpleImputer(),\n",
       "                                   ['Age', 'Fare']),\n",
       "                                  ('binarizer', Binarizer(threshold=0),\n",
       "                                   ['SibSp', 'Parch'])])),\n",
       " ('catboostclassifier', <catboost.core.CatBoostClassifier at 0x7fe6cbc3bbb0>)]"
      ]
     },
     "execution_count": 6,
     "metadata": {},
     "output_type": "execute_result"
    }
   ],
   "source": [
    "pipe.steps"
   ]
  },
  {
   "cell_type": "code",
   "execution_count": 7,
   "metadata": {},
   "outputs": [
    {
     "data": {
      "text/html": [
       "<div>\n",
       "<style scoped>\n",
       "    .dataframe tbody tr th:only-of-type {\n",
       "        vertical-align: middle;\n",
       "    }\n",
       "\n",
       "    .dataframe tbody tr th {\n",
       "        vertical-align: top;\n",
       "    }\n",
       "\n",
       "    .dataframe thead th {\n",
       "        text-align: right;\n",
       "    }\n",
       "</style>\n",
       "<table border=\"1\" class=\"dataframe\">\n",
       "  <thead>\n",
       "    <tr style=\"text-align: right;\">\n",
       "      <th></th>\n",
       "      <th>0</th>\n",
       "      <th>1</th>\n",
       "      <th>2</th>\n",
       "      <th>3</th>\n",
       "      <th>4</th>\n",
       "      <th>5</th>\n",
       "      <th>6</th>\n",
       "    </tr>\n",
       "  </thead>\n",
       "  <tbody>\n",
       "    <tr>\n",
       "      <th>0</th>\n",
       "      <td>22</td>\n",
       "      <td>7.25</td>\n",
       "      <td>1</td>\n",
       "      <td>0</td>\n",
       "      <td>3</td>\n",
       "      <td>male</td>\n",
       "      <td>S</td>\n",
       "    </tr>\n",
       "    <tr>\n",
       "      <th>1</th>\n",
       "      <td>38</td>\n",
       "      <td>71.2833</td>\n",
       "      <td>1</td>\n",
       "      <td>0</td>\n",
       "      <td>1</td>\n",
       "      <td>female</td>\n",
       "      <td>C</td>\n",
       "    </tr>\n",
       "    <tr>\n",
       "      <th>2</th>\n",
       "      <td>26</td>\n",
       "      <td>7.925</td>\n",
       "      <td>0</td>\n",
       "      <td>0</td>\n",
       "      <td>3</td>\n",
       "      <td>female</td>\n",
       "      <td>S</td>\n",
       "    </tr>\n",
       "    <tr>\n",
       "      <th>3</th>\n",
       "      <td>35</td>\n",
       "      <td>53.1</td>\n",
       "      <td>1</td>\n",
       "      <td>0</td>\n",
       "      <td>1</td>\n",
       "      <td>female</td>\n",
       "      <td>S</td>\n",
       "    </tr>\n",
       "    <tr>\n",
       "      <th>4</th>\n",
       "      <td>35</td>\n",
       "      <td>8.05</td>\n",
       "      <td>0</td>\n",
       "      <td>0</td>\n",
       "      <td>3</td>\n",
       "      <td>male</td>\n",
       "      <td>S</td>\n",
       "    </tr>\n",
       "  </tbody>\n",
       "</table>\n",
       "</div>"
      ],
      "text/plain": [
       "    0        1  2  3  4       5  6\n",
       "0  22     7.25  1  0  3    male  S\n",
       "1  38  71.2833  1  0  1  female  C\n",
       "2  26    7.925  0  0  3  female  S\n",
       "3  35     53.1  1  0  1  female  S\n",
       "4  35     8.05  0  0  3    male  S"
      ]
     },
     "execution_count": 7,
     "metadata": {},
     "output_type": "execute_result"
    }
   ],
   "source": [
    "pd.DataFrame(column_transformer.fit_transform(X_train)).head()"
   ]
  },
  {
   "cell_type": "code",
   "execution_count": 8,
   "metadata": {},
   "outputs": [],
   "source": [
    "param_grid = {'catboostclassifier__n_estimators':[30,50,100],\n",
    "              'catboostclassifier__learning_rate':[0.1,0.3,0.5],\n",
    "              'catboostclassifier__l2_leaf_reg':[0,1,3,7],\n",
    "              'catboostclassifier__depth':[2,3,4,6]}"
   ]
  },
  {
   "cell_type": "code",
   "execution_count": 9,
   "metadata": {},
   "outputs": [],
   "source": [
    "gs_cv = GridSearchCV(pipe, param_grid, scoring='accuracy', cv=10, n_jobs=-1)"
   ]
  },
  {
   "cell_type": "code",
   "execution_count": 10,
   "metadata": {
    "scrolled": true
   },
   "outputs": [
    {
     "name": "stdout",
     "output_type": "stream",
     "text": [
      "0:\tlearn: 0.5340434\ttotal: 52.8ms\tremaining: 5.23s\n",
      "1:\tlearn: 0.4667734\ttotal: 54.3ms\tremaining: 2.66s\n",
      "2:\tlearn: 0.4309812\ttotal: 55.3ms\tremaining: 1.79s\n",
      "3:\tlearn: 0.4196095\ttotal: 56.6ms\tremaining: 1.36s\n",
      "4:\tlearn: 0.4160502\ttotal: 57.6ms\tremaining: 1.09s\n",
      "5:\tlearn: 0.4093924\ttotal: 58.6ms\tremaining: 919ms\n",
      "6:\tlearn: 0.4046885\ttotal: 59.8ms\tremaining: 794ms\n",
      "7:\tlearn: 0.4033602\ttotal: 60.6ms\tremaining: 696ms\n",
      "8:\tlearn: 0.3993996\ttotal: 61.7ms\tremaining: 624ms\n",
      "9:\tlearn: 0.3938602\ttotal: 63.8ms\tremaining: 574ms\n",
      "10:\tlearn: 0.3920298\ttotal: 64.4ms\tremaining: 521ms\n",
      "11:\tlearn: 0.3915657\ttotal: 64.9ms\tremaining: 476ms\n",
      "12:\tlearn: 0.3898432\ttotal: 65.5ms\tremaining: 438ms\n",
      "13:\tlearn: 0.3860493\ttotal: 66.1ms\tremaining: 406ms\n",
      "14:\tlearn: 0.3836698\ttotal: 66.8ms\tremaining: 378ms\n",
      "15:\tlearn: 0.3822327\ttotal: 67.3ms\tremaining: 354ms\n",
      "16:\tlearn: 0.3803194\ttotal: 68ms\tremaining: 332ms\n",
      "17:\tlearn: 0.3747768\ttotal: 68.7ms\tremaining: 313ms\n",
      "18:\tlearn: 0.3713557\ttotal: 69.4ms\tremaining: 296ms\n",
      "19:\tlearn: 0.3700617\ttotal: 70.1ms\tremaining: 280ms\n",
      "20:\tlearn: 0.3674007\ttotal: 70.7ms\tremaining: 266ms\n",
      "21:\tlearn: 0.3642448\ttotal: 71.3ms\tremaining: 253ms\n",
      "22:\tlearn: 0.3619717\ttotal: 71.8ms\tremaining: 240ms\n",
      "23:\tlearn: 0.3606461\ttotal: 72.3ms\tremaining: 229ms\n",
      "24:\tlearn: 0.3551471\ttotal: 73ms\tremaining: 219ms\n",
      "25:\tlearn: 0.3543982\ttotal: 73.5ms\tremaining: 209ms\n",
      "26:\tlearn: 0.3533542\ttotal: 74.6ms\tremaining: 202ms\n",
      "27:\tlearn: 0.3530618\ttotal: 75.3ms\tremaining: 194ms\n",
      "28:\tlearn: 0.3516881\ttotal: 75.9ms\tremaining: 186ms\n",
      "29:\tlearn: 0.3475625\ttotal: 76.3ms\tremaining: 178ms\n",
      "30:\tlearn: 0.3452511\ttotal: 77ms\tremaining: 171ms\n",
      "31:\tlearn: 0.3447676\ttotal: 77.7ms\tremaining: 165ms\n",
      "32:\tlearn: 0.3441692\ttotal: 78.2ms\tremaining: 159ms\n",
      "33:\tlearn: 0.3437703\ttotal: 78.8ms\tremaining: 153ms\n",
      "34:\tlearn: 0.3429074\ttotal: 79.3ms\tremaining: 147ms\n",
      "35:\tlearn: 0.3418758\ttotal: 79.9ms\tremaining: 142ms\n",
      "36:\tlearn: 0.3365783\ttotal: 80.4ms\tremaining: 137ms\n",
      "37:\tlearn: 0.3358624\ttotal: 80.9ms\tremaining: 132ms\n",
      "38:\tlearn: 0.3356132\ttotal: 81.5ms\tremaining: 127ms\n",
      "39:\tlearn: 0.3340667\ttotal: 82ms\tremaining: 123ms\n",
      "40:\tlearn: 0.3329432\ttotal: 82.7ms\tremaining: 119ms\n",
      "41:\tlearn: 0.3310141\ttotal: 83.3ms\tremaining: 115ms\n",
      "42:\tlearn: 0.3276431\ttotal: 84.1ms\tremaining: 111ms\n",
      "43:\tlearn: 0.3227933\ttotal: 84.7ms\tremaining: 108ms\n",
      "44:\tlearn: 0.3204346\ttotal: 85.2ms\tremaining: 104ms\n",
      "45:\tlearn: 0.3159993\ttotal: 85.7ms\tremaining: 101ms\n",
      "46:\tlearn: 0.3155889\ttotal: 86.5ms\tremaining: 97.6ms\n",
      "47:\tlearn: 0.3140111\ttotal: 87.1ms\tremaining: 94.4ms\n",
      "48:\tlearn: 0.3118599\ttotal: 97.1ms\tremaining: 101ms\n",
      "49:\tlearn: 0.3083556\ttotal: 98ms\tremaining: 98ms\n",
      "50:\tlearn: 0.3076914\ttotal: 98.8ms\tremaining: 95ms\n",
      "51:\tlearn: 0.3069019\ttotal: 99.8ms\tremaining: 92.1ms\n",
      "52:\tlearn: 0.3063411\ttotal: 101ms\tremaining: 89.2ms\n",
      "53:\tlearn: 0.3058627\ttotal: 101ms\tremaining: 86.4ms\n",
      "54:\tlearn: 0.3045887\ttotal: 102ms\tremaining: 83.6ms\n",
      "55:\tlearn: 0.3028128\ttotal: 103ms\tremaining: 81ms\n",
      "56:\tlearn: 0.3009029\ttotal: 104ms\tremaining: 78.4ms\n",
      "57:\tlearn: 0.2981825\ttotal: 104ms\tremaining: 75.7ms\n",
      "58:\tlearn: 0.2965310\ttotal: 105ms\tremaining: 73ms\n",
      "59:\tlearn: 0.2961283\ttotal: 106ms\tremaining: 71ms\n",
      "60:\tlearn: 0.2930496\ttotal: 107ms\tremaining: 68.6ms\n",
      "61:\tlearn: 0.2922135\ttotal: 108ms\tremaining: 66.1ms\n",
      "62:\tlearn: 0.2915262\ttotal: 109ms\tremaining: 63.9ms\n",
      "63:\tlearn: 0.2889190\ttotal: 110ms\tremaining: 61.6ms\n",
      "64:\tlearn: 0.2871197\ttotal: 110ms\tremaining: 59.3ms\n",
      "65:\tlearn: 0.2860711\ttotal: 111ms\tremaining: 57.1ms\n",
      "66:\tlearn: 0.2852731\ttotal: 111ms\tremaining: 54.9ms\n",
      "67:\tlearn: 0.2834302\ttotal: 112ms\tremaining: 52.7ms\n",
      "68:\tlearn: 0.2814364\ttotal: 113ms\tremaining: 50.6ms\n",
      "69:\tlearn: 0.2803633\ttotal: 113ms\tremaining: 48.5ms\n",
      "70:\tlearn: 0.2789044\ttotal: 114ms\tremaining: 46.5ms\n",
      "71:\tlearn: 0.2774727\ttotal: 114ms\tremaining: 44.5ms\n",
      "72:\tlearn: 0.2743656\ttotal: 115ms\tremaining: 42.5ms\n",
      "73:\tlearn: 0.2731401\ttotal: 115ms\tremaining: 40.6ms\n",
      "74:\tlearn: 0.2726735\ttotal: 116ms\tremaining: 38.7ms\n",
      "75:\tlearn: 0.2714564\ttotal: 117ms\tremaining: 36.8ms\n",
      "76:\tlearn: 0.2713095\ttotal: 117ms\tremaining: 34.9ms\n",
      "77:\tlearn: 0.2703814\ttotal: 117ms\tremaining: 33.1ms\n",
      "78:\tlearn: 0.2690153\ttotal: 118ms\tremaining: 31.3ms\n",
      "79:\tlearn: 0.2677748\ttotal: 118ms\tremaining: 29.6ms\n",
      "80:\tlearn: 0.2669702\ttotal: 119ms\tremaining: 27.9ms\n",
      "81:\tlearn: 0.2669468\ttotal: 119ms\tremaining: 26.2ms\n",
      "82:\tlearn: 0.2664943\ttotal: 120ms\tremaining: 24.5ms\n",
      "83:\tlearn: 0.2652276\ttotal: 120ms\tremaining: 22.9ms\n",
      "84:\tlearn: 0.2643720\ttotal: 121ms\tremaining: 21.3ms\n",
      "85:\tlearn: 0.2630647\ttotal: 121ms\tremaining: 19.7ms\n",
      "86:\tlearn: 0.2626450\ttotal: 122ms\tremaining: 18.2ms\n",
      "87:\tlearn: 0.2614874\ttotal: 122ms\tremaining: 16.7ms\n",
      "88:\tlearn: 0.2610083\ttotal: 123ms\tremaining: 15.2ms\n",
      "89:\tlearn: 0.2595849\ttotal: 123ms\tremaining: 13.7ms\n",
      "90:\tlearn: 0.2580724\ttotal: 124ms\tremaining: 12.2ms\n",
      "91:\tlearn: 0.2566754\ttotal: 124ms\tremaining: 10.8ms\n",
      "92:\tlearn: 0.2561558\ttotal: 125ms\tremaining: 9.38ms\n",
      "93:\tlearn: 0.2554718\ttotal: 125ms\tremaining: 7.99ms\n",
      "94:\tlearn: 0.2552772\ttotal: 126ms\tremaining: 6.61ms\n",
      "95:\tlearn: 0.2549384\ttotal: 126ms\tremaining: 5.26ms\n",
      "96:\tlearn: 0.2531767\ttotal: 127ms\tremaining: 3.94ms\n",
      "97:\tlearn: 0.2524815\ttotal: 128ms\tremaining: 2.61ms\n",
      "98:\tlearn: 0.2521275\ttotal: 128ms\tremaining: 1.29ms\n",
      "99:\tlearn: 0.2498674\ttotal: 129ms\tremaining: 0us\n",
      "CPU times: user 2.66 s, sys: 227 ms, total: 2.89 s\n",
      "Wall time: 42.6 s\n"
     ]
    },
    {
     "data": {
      "text/plain": [
       "GridSearchCV(cv=10,\n",
       "             estimator=Pipeline(steps=[('columntransformer',\n",
       "                                        ColumnTransformer(remainder='passthrough',\n",
       "                                                          transformers=[('simpleimputer',\n",
       "                                                                         SimpleImputer(),\n",
       "                                                                         ['Age',\n",
       "                                                                          'Fare']),\n",
       "                                                                        ('binarizer',\n",
       "                                                                         Binarizer(threshold=0),\n",
       "                                                                         ['SibSp',\n",
       "                                                                          'Parch'])])),\n",
       "                                       ('catboostclassifier',\n",
       "                                        <catboost.core.CatBoostClassifier object at 0x7fe6cbc3bbb0>)]),\n",
       "             n_jobs=-1,\n",
       "             param_grid={'catboostclassifier__depth': [2, 3, 4, 6],\n",
       "                         'catboostclassifier__l2_leaf_reg': [0, 1, 3, 7],\n",
       "                         'catboostclassifier__learning_rate': [0.1, 0.3, 0.5],\n",
       "                         'catboostclassifier__n_estimators': [30, 50, 100]},\n",
       "             scoring='accuracy')"
      ]
     },
     "execution_count": 10,
     "metadata": {},
     "output_type": "execute_result"
    }
   ],
   "source": [
    "%%time\n",
    "gs_cv.fit(X_train, y_train);"
   ]
  },
  {
   "cell_type": "code",
   "execution_count": 14,
   "metadata": {},
   "outputs": [
    {
     "data": {
      "text/plain": [
       "(0.8380107252298263,\n",
       " {'catboostclassifier__depth': 4,\n",
       "  'catboostclassifier__l2_leaf_reg': 1,\n",
       "  'catboostclassifier__learning_rate': 0.5,\n",
       "  'catboostclassifier__n_estimators': 100})"
      ]
     },
     "execution_count": 14,
     "metadata": {},
     "output_type": "execute_result"
    }
   ],
   "source": [
    "gs_cv.best_score_, gs_cv.best_params_"
   ]
  },
  {
   "cell_type": "code",
   "execution_count": 21,
   "metadata": {},
   "outputs": [],
   "source": [
    "pickle.dump(gs_cv, open('./models/model-catboostCLF.pkl', 'wb'))"
   ]
  },
  {
   "cell_type": "code",
   "execution_count": 23,
   "metadata": {},
   "outputs": [],
   "source": [
    "# test = pickle.load(open('./models/model-catboostCLF.pkl', 'rb'))\n",
    "# test.predict(X_test)[:10]"
   ]
  },
  {
   "cell_type": "code",
   "execution_count": 17,
   "metadata": {},
   "outputs": [
    {
     "data": {
      "text/plain": [
       "array([0, 0, 0, 0, 0, 0, 1, 0, 1, 0])"
      ]
     },
     "execution_count": 17,
     "metadata": {},
     "output_type": "execute_result"
    }
   ],
   "source": [
    "y_pred = gs_cv.predict(X_test)\n",
    "y_pred[:10]"
   ]
  },
  {
   "cell_type": "code",
   "execution_count": 18,
   "metadata": {},
   "outputs": [
    {
     "data": {
      "text/html": [
       "<div>\n",
       "<style scoped>\n",
       "    .dataframe tbody tr th:only-of-type {\n",
       "        vertical-align: middle;\n",
       "    }\n",
       "\n",
       "    .dataframe tbody tr th {\n",
       "        vertical-align: top;\n",
       "    }\n",
       "\n",
       "    .dataframe thead th {\n",
       "        text-align: right;\n",
       "    }\n",
       "</style>\n",
       "<table border=\"1\" class=\"dataframe\">\n",
       "  <thead>\n",
       "    <tr style=\"text-align: right;\">\n",
       "      <th></th>\n",
       "      <th>PassengerId</th>\n",
       "      <th>Survived</th>\n",
       "    </tr>\n",
       "  </thead>\n",
       "  <tbody>\n",
       "    <tr>\n",
       "      <th>0</th>\n",
       "      <td>892</td>\n",
       "      <td>0</td>\n",
       "    </tr>\n",
       "    <tr>\n",
       "      <th>1</th>\n",
       "      <td>893</td>\n",
       "      <td>0</td>\n",
       "    </tr>\n",
       "    <tr>\n",
       "      <th>2</th>\n",
       "      <td>894</td>\n",
       "      <td>0</td>\n",
       "    </tr>\n",
       "    <tr>\n",
       "      <th>3</th>\n",
       "      <td>895</td>\n",
       "      <td>0</td>\n",
       "    </tr>\n",
       "    <tr>\n",
       "      <th>4</th>\n",
       "      <td>896</td>\n",
       "      <td>0</td>\n",
       "    </tr>\n",
       "    <tr>\n",
       "      <th>5</th>\n",
       "      <td>897</td>\n",
       "      <td>0</td>\n",
       "    </tr>\n",
       "    <tr>\n",
       "      <th>6</th>\n",
       "      <td>898</td>\n",
       "      <td>1</td>\n",
       "    </tr>\n",
       "    <tr>\n",
       "      <th>7</th>\n",
       "      <td>899</td>\n",
       "      <td>0</td>\n",
       "    </tr>\n",
       "    <tr>\n",
       "      <th>8</th>\n",
       "      <td>900</td>\n",
       "      <td>1</td>\n",
       "    </tr>\n",
       "    <tr>\n",
       "      <th>9</th>\n",
       "      <td>901</td>\n",
       "      <td>0</td>\n",
       "    </tr>\n",
       "  </tbody>\n",
       "</table>\n",
       "</div>"
      ],
      "text/plain": [
       "   PassengerId  Survived\n",
       "0          892         0\n",
       "1          893         0\n",
       "2          894         0\n",
       "3          895         0\n",
       "4          896         0\n",
       "5          897         0\n",
       "6          898         1\n",
       "7          899         0\n",
       "8          900         1\n",
       "9          901         0"
      ]
     },
     "execution_count": 18,
     "metadata": {},
     "output_type": "execute_result"
    }
   ],
   "source": [
    "predictions = pd.DataFrame({'PassengerId':test_data['PassengerId'], 'Survived':y_pred})\n",
    "predictions.head(10)"
   ]
  },
  {
   "cell_type": "code",
   "execution_count": 19,
   "metadata": {},
   "outputs": [],
   "source": [
    "predictions.to_csv('submission.csv', index=False)"
   ]
  },
  {
   "cell_type": "code",
   "execution_count": null,
   "metadata": {},
   "outputs": [],
   "source": [
    "# TODO:\n",
    "# Comparar el rendimiento de varios modelos: https://www.youtube.com/watch?v=Vc-qn5VcJmw&list=PLbUIzNzCKD8CAak1UTDtJUfNnCmMrV-BC&index=7\n",
    "# Probar forward/backward selection: https://scikit-learn.org/stable/modules/generated/sklearn.feature_selection.SequentialFeatureSelector.html\n",
    "# Probar otros modelos: Logistic regression, SVM"
   ]
  },
  {
   "cell_type": "code",
   "execution_count": null,
   "metadata": {},
   "outputs": [],
   "source": []
  }
 ],
 "metadata": {
  "kernelspec": {
   "display_name": "Python 3",
   "language": "python",
   "name": "python3"
  },
  "language_info": {
   "codemirror_mode": {
    "name": "ipython",
    "version": 3
   },
   "file_extension": ".py",
   "mimetype": "text/x-python",
   "name": "python",
   "nbconvert_exporter": "python",
   "pygments_lexer": "ipython3",
   "version": "3.8.5"
  }
 },
 "nbformat": 4,
 "nbformat_minor": 4
}
